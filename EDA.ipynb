{
 "cells": [
  {
   "cell_type": "code",
   "execution_count": null,
   "id": "8a7c43ff",
   "metadata": {},
   "outputs": [],
   "source": [
    "import pandas as pd\n",
    "\n",
    "df = pd.read_csv('winequality-white.csv', sep=';')\n",
    "df.head()"
   ]
  },
  {
   "cell_type": "code",
   "execution_count": null,
   "id": "9ee9f65d",
   "metadata": {},
   "outputs": [],
   "source": [
    "df.shape"
   ]
  },
  {
   "cell_type": "raw",
   "id": "cfba3102",
   "metadata": {},
   "source": [
    "Dataset comprises of 4898 observations and 12 characteristics"
   ]
  },
  {
   "cell_type": "code",
   "execution_count": null,
   "id": "2d130e54",
   "metadata": {},
   "outputs": [],
   "source": [
    "df.columns.values"
   ]
  },
  {
   "cell_type": "code",
   "execution_count": null,
   "id": "ef7cf4c7",
   "metadata": {},
   "outputs": [],
   "source": [
    "df.info()\n",
    "# Number of rows = 4898\n",
    "# Number of columns = 12\n",
    "# Column name, number of not null value, data type \n",
    "# There are no missing values in the data\n",
    "# Number of columns for each data type\n",
    "# Memory usage"
   ]
  },
  {
   "cell_type": "code",
   "execution_count": null,
   "id": "b93ae1d1",
   "metadata": {},
   "outputs": [],
   "source": [
    "df.describe()\n",
    "# Median is less than the mean for all columns\n",
    "# Notably large diffference between the 75%ile and max value of the columns\n",
    "# 'residual sugar', 'free sulphur dioxide', and 'total sulfur dioxide'\n",
    "# This suggests that there are outliers in our data"
   ]
  },
  {
   "cell_type": "code",
   "execution_count": null,
   "id": "3b9c3769",
   "metadata": {},
   "outputs": [],
   "source": [
    "df['quality'].unique()"
   ]
  },
  {
   "cell_type": "code",
   "execution_count": null,
   "id": "1a138bc3",
   "metadata": {},
   "outputs": [],
   "source": [
    "df['quality'].value_counts()"
   ]
  },
  {
   "cell_type": "code",
   "execution_count": null,
   "id": "58336acb",
   "metadata": {},
   "outputs": [],
   "source": [
    "df.isnull().sum()"
   ]
  },
  {
   "cell_type": "code",
   "execution_count": null,
   "id": "0c2f0dc8",
   "metadata": {},
   "outputs": [],
   "source": [
    "df[df['quality'].isnull()]"
   ]
  },
  {
   "cell_type": "code",
   "execution_count": null,
   "id": "bd4d4161",
   "metadata": {},
   "outputs": [],
   "source": [
    "df.corr()"
   ]
  },
  {
   "cell_type": "code",
   "execution_count": null,
   "id": "dae7f6ad",
   "metadata": {},
   "outputs": [],
   "source": [
    "import matplotlib.pyplot as plt\n",
    "import seaborn as sns\n",
    "\n",
    "plt.figure(figsize=(6,4))\n",
    "sns.heatmap(df.corr(), cmap='Blues')\n",
    "plt.show()"
   ]
  },
  {
   "cell_type": "code",
   "execution_count": null,
   "id": "4190d86a",
   "metadata": {},
   "outputs": [],
   "source": [
    "for i in range(df.shape[1]):\n",
    "    sns.displot(df.iloc[:, i], kde=True)\n",
    "    plt.show()"
   ]
  },
  {
   "cell_type": "markdown",
   "id": "82d1372e",
   "metadata": {},
   "source": [
    "# Missing Data"
   ]
  },
  {
   "cell_type": "code",
   "execution_count": null,
   "id": "1f24a344",
   "metadata": {},
   "outputs": [],
   "source": [
    "import seaborn as sns\n",
    "\n",
    "df = sns.load_dataset('titanic')\n",
    "df.head()"
   ]
  },
  {
   "cell_type": "code",
   "execution_count": null,
   "id": "100bb7f8",
   "metadata": {},
   "outputs": [],
   "source": [
    "df.isnull().sum()"
   ]
  },
  {
   "cell_type": "code",
   "execution_count": null,
   "id": "62cff12c",
   "metadata": {},
   "outputs": [],
   "source": [
    "# Delete the columns with missing data\n",
    "\n",
    "newdf = df.dropna(axis=1)\n",
    "print(df.shape)\n",
    "print(newdf.shape)"
   ]
  },
  {
   "cell_type": "code",
   "execution_count": null,
   "id": "d5d12682",
   "metadata": {},
   "outputs": [],
   "source": [
    "# Delete the rows containing null values\n",
    "\n",
    "newdf = df.dropna(axis=0)\n",
    "print(df.shape)\n",
    "print(newdf.shape)"
   ]
  },
  {
   "cell_type": "code",
   "execution_count": null,
   "id": "6c5df3c7",
   "metadata": {},
   "outputs": [],
   "source": [
    "# Fill with mean/median value\n",
    "\n",
    "newdf = df.copy()\n",
    "agemean = newdf['age'].mean()\n",
    "newdf['age'] = newdf['age'].fillna(agemean)"
   ]
  },
  {
   "cell_type": "code",
   "execution_count": null,
   "id": "d2c6d5b7",
   "metadata": {},
   "outputs": [],
   "source": [
    "df.isnull().sum()"
   ]
  },
  {
   "cell_type": "code",
   "execution_count": null,
   "id": "98873d29",
   "metadata": {},
   "outputs": [],
   "source": [
    "newdf.isnull().sum()"
   ]
  },
  {
   "cell_type": "code",
   "execution_count": null,
   "id": "d705717d",
   "metadata": {},
   "outputs": [],
   "source": [
    "agemean"
   ]
  },
  {
   "cell_type": "code",
   "execution_count": null,
   "id": "62f0db09",
   "metadata": {},
   "outputs": [],
   "source": [
    "newdf[df['age'].isnull()].head()"
   ]
  },
  {
   "cell_type": "code",
   "execution_count": null,
   "id": "4f5847de",
   "metadata": {},
   "outputs": [],
   "source": [
    "# Filling with value of highest frequency\n",
    "\n",
    "hf = df['embark_town'].value_counts().idxmax()\n",
    "newdf['embark_town'] = newdf['embark_town'].fillna(hf)"
   ]
  },
  {
   "cell_type": "code",
   "execution_count": null,
   "id": "b6c371a9",
   "metadata": {},
   "outputs": [],
   "source": [
    "df.isnull().sum()"
   ]
  },
  {
   "cell_type": "code",
   "execution_count": null,
   "id": "2351d299",
   "metadata": {},
   "outputs": [],
   "source": [
    "newdf.isnull().sum()"
   ]
  },
  {
   "cell_type": "code",
   "execution_count": null,
   "id": "a58c5380",
   "metadata": {},
   "outputs": [],
   "source": [
    "hf"
   ]
  },
  {
   "cell_type": "code",
   "execution_count": null,
   "id": "71aad5d3",
   "metadata": {},
   "outputs": [],
   "source": [
    "newdf[df['embark_town'].isnull()]"
   ]
  },
  {
   "cell_type": "markdown",
   "id": "c5f6d429",
   "metadata": {},
   "source": [
    "# Handling Outliers"
   ]
  },
  {
   "cell_type": "code",
   "execution_count": null,
   "id": "3fc49465",
   "metadata": {},
   "outputs": [],
   "source": [
    "from sklearn.datasets import fetch_california_housing\n",
    "\n",
    "cal = fetch_california_housing()\n",
    "cal"
   ]
  },
  {
   "cell_type": "code",
   "execution_count": null,
   "id": "882d8c37",
   "metadata": {},
   "outputs": [],
   "source": [
    "import pandas as pd\n",
    "\n",
    "df = pd.DataFrame(cal.data, columns=cal.feature_names)\n",
    "df.head()"
   ]
  },
  {
   "cell_type": "code",
   "execution_count": null,
   "id": "9ae74f9b",
   "metadata": {},
   "outputs": [],
   "source": [
    "import seaborn as sns\n",
    "\n",
    "sns.boxplot(df['MedInc'])"
   ]
  },
  {
   "cell_type": "code",
   "execution_count": null,
   "id": "ff15200c",
   "metadata": {},
   "outputs": [],
   "source": [
    "import numpy as np\n",
    "\n",
    "np.where(df['MedInc']>10)[0]"
   ]
  },
  {
   "cell_type": "code",
   "execution_count": null,
   "id": "d3e080d7",
   "metadata": {},
   "outputs": [],
   "source": [
    "newdf = df.drop(np.where(df['MedInc']>10)[0], axis=0)\n",
    "print(df.shape)\n",
    "print(newdf.shape)"
   ]
  },
  {
   "cell_type": "code",
   "execution_count": null,
   "id": "dd4d51ad",
   "metadata": {},
   "outputs": [],
   "source": [
    "import matplotlib.pyplot as plt\n",
    "\n",
    "plt.scatter(df['HouseAge'], df['Population'])\n",
    "plt.show()"
   ]
  },
  {
   "cell_type": "code",
   "execution_count": null,
   "id": "6051c577",
   "metadata": {},
   "outputs": [],
   "source": [
    "# Z-score\n",
    "\n",
    "from scipy import stats\n",
    "\n",
    "z = np.abs(stats.zscore(df['MedInc']))\n",
    "z"
   ]
  },
  {
   "cell_type": "code",
   "execution_count": null,
   "id": "95ca5044",
   "metadata": {},
   "outputs": [],
   "source": [
    "np.where(z>3)[0]"
   ]
  },
  {
   "cell_type": "code",
   "execution_count": null,
   "id": "c6e32385",
   "metadata": {},
   "outputs": [],
   "source": [
    "newdf = df.drop(np.where(z>3)[0], axis=0)\n",
    "print(df.shape)\n",
    "print(newdf.shape)"
   ]
  },
  {
   "cell_type": "code",
   "execution_count": null,
   "id": "382b9082",
   "metadata": {},
   "outputs": [],
   "source": [
    "q1 = np.percentile(df['MedInc'], 25, \n",
    "                   interpolation='midpoint')\n",
    "q3 = np.percentile(df['MedInc'], 75, \n",
    "                   interpolation='midpoint')\n",
    "iqr = q3 - q1\n",
    "upper = q3+1.5*iqr\n",
    "lower = q1 - 1.5*iqr"
   ]
  },
  {
   "cell_type": "code",
   "execution_count": null,
   "id": "77d9534f",
   "metadata": {},
   "outputs": [],
   "source": [
    "outliers = np.where((df['MedInc']<lower)|(df['MedInc']>upper))[0]"
   ]
  },
  {
   "cell_type": "code",
   "execution_count": null,
   "id": "de1c575e",
   "metadata": {},
   "outputs": [],
   "source": [
    "newdf = df.drop(outliers, axis=0)\n",
    "print(df.shape)\n",
    "print(newdf.shape)"
   ]
  },
  {
   "cell_type": "markdown",
   "id": "aa826d73",
   "metadata": {},
   "source": [
    "# Handling Skewness"
   ]
  },
  {
   "cell_type": "code",
   "execution_count": null,
   "id": "62464ab8",
   "metadata": {},
   "outputs": [],
   "source": [
    "import pandas as pd\n",
    "\n",
    "df = pd.read_csv('Data_to_Transform.csv')\n",
    "df.head()"
   ]
  },
  {
   "cell_type": "code",
   "execution_count": null,
   "id": "01227a41",
   "metadata": {},
   "outputs": [],
   "source": [
    "df.hist(grid=False, bins=30, figsize=(10,6))"
   ]
  },
  {
   "cell_type": "code",
   "execution_count": null,
   "id": "2c462907",
   "metadata": {
    "scrolled": true
   },
   "outputs": [],
   "source": [
    "df.agg(['skew', 'kurtosis']).transpose()"
   ]
  },
  {
   "cell_type": "code",
   "execution_count": null,
   "id": "b284d3eb",
   "metadata": {},
   "outputs": [],
   "source": [
    "df_sqrt = pd.DataFrame()\n",
    "df_sqrt['A'] = df.iloc[:, 0]\n",
    "df_sqrt['B'] = df.iloc[:, 2]\n",
    "df_sqrt.head()"
   ]
  },
  {
   "cell_type": "code",
   "execution_count": null,
   "id": "01e1dc8b",
   "metadata": {},
   "outputs": [],
   "source": [
    "import numpy as np\n",
    "df_sqrt['A_sqrt'] = np.sqrt(df_sqrt['A'])\n",
    "df_sqrt.hist(grid=False, bins=30)"
   ]
  },
  {
   "cell_type": "code",
   "execution_count": null,
   "id": "63045ec1",
   "metadata": {},
   "outputs": [],
   "source": [
    "df_sqrt['B_sqrt']=np.sqrt(max(df_sqrt['B']+1)-df_sqrt['B'])\n",
    "df_sqrt.hist(grid=False, bins=30)"
   ]
  },
  {
   "cell_type": "code",
   "execution_count": null,
   "id": "3d407b9d",
   "metadata": {},
   "outputs": [],
   "source": [
    "df_log = pd.DataFrame()\n",
    "df_log['A'] = df_sqrt['A']\n",
    "df_log['B'] = df_sqrt['B']\n",
    "df_log['A_log'] = np.log(df_log['A'])\n",
    "df_log.hist(grid=False, bins=30)"
   ]
  },
  {
   "cell_type": "code",
   "execution_count": null,
   "id": "486ab773",
   "metadata": {},
   "outputs": [],
   "source": [
    "df_log['B_log'] = np.log(max(df_log['B']+1)-df_log['B'])\n",
    "df_log.hist(grid=False, bins=30)"
   ]
  },
  {
   "cell_type": "code",
   "execution_count": null,
   "id": "e025f94f",
   "metadata": {},
   "outputs": [],
   "source": [
    "df_boxcox = pd.DataFrame()\n",
    "df_boxcox['A'] = df.iloc[:, 1]\n",
    "df_boxcox.head()"
   ]
  },
  {
   "cell_type": "code",
   "execution_count": null,
   "id": "e646920e",
   "metadata": {},
   "outputs": [],
   "source": [
    "from scipy.stats import boxcox\n",
    "\n",
    "df_boxcox['A_boxcox'] = boxcox(df_boxcox['A'])[0]\n",
    "df_boxcox.hist(grid=False, bins=30)"
   ]
  },
  {
   "cell_type": "markdown",
   "id": "ff931dc3",
   "metadata": {},
   "source": [
    "# Label Encoding"
   ]
  },
  {
   "cell_type": "code",
   "execution_count": null,
   "id": "9e9c18b6",
   "metadata": {},
   "outputs": [],
   "source": [
    "import seaborn as sns\n",
    "\n",
    "df = sns.load_dataset('iris')\n",
    "df.head()"
   ]
  },
  {
   "cell_type": "code",
   "execution_count": null,
   "id": "d8d72821",
   "metadata": {},
   "outputs": [],
   "source": [
    "df['species'].unique()"
   ]
  },
  {
   "cell_type": "code",
   "execution_count": null,
   "id": "c940ec0c",
   "metadata": {},
   "outputs": [],
   "source": [
    "from sklearn.preprocessing import LabelEncoder\n",
    "\n",
    "le = LabelEncoder()\n",
    "df['species'] = le.fit_transform(df['species'])\n",
    "df['species'].unique()"
   ]
  },
  {
   "cell_type": "markdown",
   "id": "5298eeeb",
   "metadata": {},
   "source": [
    "# Scaling"
   ]
  },
  {
   "cell_type": "code",
   "execution_count": null,
   "id": "060a7293",
   "metadata": {},
   "outputs": [],
   "source": [
    "import pandas as pd\n",
    "\n",
    "df = pd.read_csv('data.csv')\n",
    "df.head()"
   ]
  },
  {
   "cell_type": "code",
   "execution_count": null,
   "id": "e8db9bc9",
   "metadata": {},
   "outputs": [],
   "source": [
    "x = df[['Weight', 'Volume']]\n",
    "x.head()"
   ]
  },
  {
   "cell_type": "code",
   "execution_count": null,
   "id": "25f17f90",
   "metadata": {},
   "outputs": [],
   "source": [
    "from sklearn.preprocessing import StandardScaler\n",
    "\n",
    "s = StandardScaler()\n",
    "scaled_x = s.fit_transform(x)\n",
    "scaled_x"
   ]
  },
  {
   "cell_type": "code",
   "execution_count": null,
   "id": "9b46ee93",
   "metadata": {},
   "outputs": [],
   "source": [
    "scaled_x.mean()"
   ]
  },
  {
   "cell_type": "code",
   "execution_count": null,
   "id": "07038b35",
   "metadata": {},
   "outputs": [],
   "source": [
    "scaled_x.std()"
   ]
  },
  {
   "cell_type": "code",
   "execution_count": null,
   "id": "3d1ef698",
   "metadata": {},
   "outputs": [],
   "source": [
    "from sklearn.preprocessing import MinMaxScaler\n",
    "\n",
    "m = MinMaxScaler()\n",
    "x_scaled = m.fit_transform(x)\n",
    "x_scaled"
   ]
  },
  {
   "cell_type": "code",
   "execution_count": null,
   "id": "3e547ea4",
   "metadata": {},
   "outputs": [],
   "source": [
    "print(x_scaled.min())\n",
    "print(x_scaled.max())"
   ]
  },
  {
   "cell_type": "markdown",
   "id": "edd2cc32",
   "metadata": {},
   "source": [
    "# Feature Engineering"
   ]
  },
  {
   "cell_type": "code",
   "execution_count": null,
   "id": "32670b50",
   "metadata": {},
   "outputs": [],
   "source": [
    "import pandas as pd\n",
    "\n",
    "df = pd.read_csv('supermarket_sales.csv')\n",
    "df.head()"
   ]
  },
  {
   "cell_type": "code",
   "execution_count": null,
   "id": "e9f64d7d",
   "metadata": {},
   "outputs": [],
   "source": [
    "grouped_df = df.groupby('Branch')"
   ]
  },
  {
   "cell_type": "code",
   "execution_count": null,
   "id": "8d0c546f",
   "metadata": {},
   "outputs": [],
   "source": [
    "df[['tax_mean', 'unit_price_mean']] = grouped_df[['Tax 5%', \n",
    "                            'Unit price']].transform('mean')\n",
    "df[['Tax 5%', 'Unit price', 'Branch', 'tax_mean', \n",
    "   'unit_price_mean']].head()"
   ]
  },
  {
   "cell_type": "code",
   "execution_count": null,
   "id": "b5fbf019",
   "metadata": {},
   "outputs": [],
   "source": [
    "import numpy as np\n",
    "df['unit_price_50']=np.where(df['Unit price']>50, 1, 0)\n",
    "df[['Unit price', 'unit_price_50']].head()"
   ]
  },
  {
   "cell_type": "code",
   "execution_count": null,
   "id": "8e803a66",
   "metadata": {},
   "outputs": [],
   "source": [
    "df['Total cost']=df['Unit price']*df['Quantity']\n",
    "df[['Unit price', 'Quantity', 'Total cost']].head()"
   ]
  },
  {
   "cell_type": "code",
   "execution_count": null,
   "id": "1f2e02f4",
   "metadata": {},
   "outputs": [],
   "source": [
    "pd.get_dummies(df['Payment']).head()"
   ]
  },
  {
   "cell_type": "code",
   "execution_count": null,
   "id": "56cb3c18",
   "metadata": {},
   "outputs": [],
   "source": [
    "df['Date']=pd.to_datetime(df['Date'])\n",
    "df.dtypes"
   ]
  },
  {
   "cell_type": "code",
   "execution_count": null,
   "id": "89668c8b",
   "metadata": {},
   "outputs": [],
   "source": [
    "df['Year'] = df['Date'].dt.year\n",
    "df['Month'] = df['Date'].dt.month\n",
    "df['Day'] = df['Date'].dt.day\n",
    "df[['Date', 'Year', 'Month', 'Day']].head()"
   ]
  },
  {
   "cell_type": "code",
   "execution_count": null,
   "id": "0d2974fd",
   "metadata": {},
   "outputs": [],
   "source": []
  }
 ],
 "metadata": {
  "kernelspec": {
   "display_name": "Python 3 (ipykernel)",
   "language": "python",
   "name": "python3"
  },
  "language_info": {
   "codemirror_mode": {
    "name": "ipython",
    "version": 3
   },
   "file_extension": ".py",
   "mimetype": "text/x-python",
   "name": "python",
   "nbconvert_exporter": "python",
   "pygments_lexer": "ipython3",
   "version": "3.9.13"
  }
 },
 "nbformat": 4,
 "nbformat_minor": 5
}
